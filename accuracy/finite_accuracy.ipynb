{
 "cells": [
  {
   "cell_type": "code",
   "execution_count": 1,
   "metadata": {},
   "outputs": [],
   "source": [
    "import sys\n",
    "sys.path.append(\"../\") # go to parent dir\n",
    "\n",
    "import jax\n",
    "import jax.numpy as jnp\n",
    "import numpy as np\n",
    "from matplotlib import pyplot as plt\n",
    "import module.finite_differences as finite\n",
    "\n",
    "import optax\n",
    "from tqdm import tqdm\n",
    "\n",
    "from scipy.optimize import curve_fit"
   ]
  },
  {
   "cell_type": "code",
   "execution_count": 12,
   "metadata": {},
   "outputs": [],
   "source": [
    "Ns = jnp.arange(5, 50)"
   ]
  },
  {
   "cell_type": "code",
   "execution_count": 13,
   "metadata": {},
   "outputs": [],
   "source": [
    "result = []\n",
    "errs = []"
   ]
  },
  {
   "cell_type": "code",
   "execution_count": 14,
   "metadata": {},
   "outputs": [
    {
     "name": "stderr",
     "output_type": "stream",
     "text": [
      "100%|██████████| 45/45 [00:41<00:00,  1.09it/s]\n"
     ]
    }
   ],
   "source": [
    "for N in tqdm(Ns):\n",
    "    solver = finite.Solver(N, L = 2)\n",
    "    xx = solver.xx\n",
    "    yy = solver.yy\n",
    "    dims = (solver.N, solver.N)\n",
    "    mask = np.ones(dims)\n",
    "    mask[1:-1,1:-1] = 0\n",
    "    maskx = np.ones(dims)\n",
    "    maskx[:,1:-1] = 0\n",
    "    masky = np.ones(dims)\n",
    "    masky[1:-1,:] = 0\n",
    "    mask = jnp.array(mask)\n",
    "    ii, jj = jnp.meshgrid(jnp.arange(solver.N), jnp.arange(solver.N))\n",
    "    a = 1.4\n",
    "    index_decay = jnp.exp(-(ii+jj)/a)\n",
    "\n",
    "\n",
    "    k_init = (xx + 1) + 3\n",
    "\n",
    "\n",
    "    dirichlet = (yy + 1) * jnp.log((xx + 1) + 3)\n",
    "    dirichlet *= mask\n",
    "\n",
    "\n",
    "    sol = solver.solve(k_init, dirichlet)\n",
    "\n",
    "    T_sol = (yy + 1) * jnp.log((xx + 1) + 3)\n",
    "    errs.append(jnp.mean(jnp.abs(T_sol  - sol)))"
   ]
  },
  {
   "cell_type": "code",
   "execution_count": 22,
   "metadata": {},
   "outputs": [],
   "source": [
    "def f(x, a, b):\n",
    "    return -a*x  + b\n",
    "\n",
    "res = curve_fit(f, np.log(Ns), np.log(errs))"
   ]
  },
  {
   "cell_type": "code",
   "execution_count": 27,
   "metadata": {},
   "outputs": [],
   "source": [
    "a = res[0][0]\n",
    "b = jnp.exp(res[0][1])"
   ]
  },
  {
   "cell_type": "code",
   "execution_count": 28,
   "metadata": {},
   "outputs": [
    {
     "data": {
      "text/plain": [
       "(2.41888201249767, Array(0.00564919, dtype=float64))"
      ]
     },
     "execution_count": 28,
     "metadata": {},
     "output_type": "execute_result"
    }
   ],
   "source": [
    "a,b"
   ]
  },
  {
   "cell_type": "code",
   "execution_count": 31,
   "metadata": {},
   "outputs": [
    {
     "data": {
      "image/png": "[encoded data removed]",
      "text/plain": [
       "<Figure size 432x288 with 1 Axes>"
      ]
     },
     "metadata": {
      "needs_background": "light"
     },
     "output_type": "display_data"
    }
   ],
   "source": [
    "plt.figure(figsize=(6,4))\n",
    "plt.scatter(Ns, errs)\n",
    "plt.plot(Ns, jnp.exp(f(np.log(Ns), res[0][0], res[0][1])), label = \"$err = N^{-2.4} $\")\n",
    "plt.yscale(\"log\")\n",
    "plt.xscale(\"log\")\n",
    "# plt.xticks(Ns)\n",
    "plt.xlabel(\"Number of Grid Points\")\n",
    "plt.ylabel(\"Absulte Error\")\n",
    "plt.legend()\n",
    "plt.savefig(\"../plot/finite_accuracy.pdf\")"
   ]
  }
 ],
 "metadata": {
  "kernelspec": {
   "display_name": "base",
   "language": "python",
   "name": "python3"
  },
  "language_info": {
   "codemirror_mode": {
    "name": "ipython",
    "version": 3
   },
   "file_extension": ".py",
   "mimetype": "text/x-python",
   "name": "python",
   "nbconvert_exporter": "python",
   "pygments_lexer": "ipython3",
   "version": "3.9.7"
  }
 },
 "nbformat": 4,
 "nbformat_minor": 2
}
