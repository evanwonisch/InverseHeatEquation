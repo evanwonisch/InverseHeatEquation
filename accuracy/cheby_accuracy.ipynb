{
 "cells": [
  {
   "cell_type": "code",
   "execution_count": 1,
   "metadata": {},
   "outputs": [],
   "source": [
    "import sys\n",
    "sys.path.append(\"../\") # go to parent dir\n",
    "\n",
    "import jax\n",
    "import jax.numpy as jnp\n",
    "import numpy as np\n",
    "from matplotlib import pyplot as plt\n",
    "import module.chebyshev_solver as chb\n",
    "\n",
    "import optax\n",
    "from tqdm import tqdm\n",
    "\n",
    "from scipy.optimize import curve_fit"
   ]
  },
  {
   "cell_type": "code",
   "execution_count": 3,
   "metadata": {},
   "outputs": [],
   "source": [
    "Ns = jnp.arange(5, 15)"
   ]
  },
  {
   "cell_type": "code",
   "execution_count": 4,
   "metadata": {},
   "outputs": [],
   "source": [
    "result = []\n",
    "errs = []"
   ]
  },
  {
   "cell_type": "code",
   "execution_count": 5,
   "metadata": {},
   "outputs": [
    {
     "name": "stderr",
     "output_type": "stream",
     "text": [
      "  0%|          | 0/10 [00:00<?, ?it/s]"
     ]
    }
   ],
   "source": [
    "for N in tqdm(Ns):\n",
    "    solver = chb.Solver(N)\n",
    "    xx = solver.xx\n",
    "    yy = solver.yy\n",
    "    grid = solver.grid\n",
    "    dims = (solver.N, solver.N)\n",
    "    mask = np.ones(dims)\n",
    "    mask[1:-1,1:-1] = 0\n",
    "    maskx = np.ones(dims)\n",
    "    maskx[:,1:-1] = 0\n",
    "    masky = np.ones(dims)\n",
    "    masky[1:-1,:] = 0\n",
    "    mask = jnp.array(mask)\n",
    "    ii, jj = jnp.meshgrid(jnp.arange(solver.N), jnp.arange(solver.N))\n",
    "    a = 1.4\n",
    "    index_decay = jnp.exp(-(ii+jj)/a)\n",
    "\n",
    "\n",
    "    k_init = xx + 3\n",
    "    k_cheby_init = solver.invI @ k_init.flatten()\n",
    "\n",
    "\n",
    "    dirichlet = yy * jnp.log(xx + 3)\n",
    "    dirichlet *= mask\n",
    "\n",
    "\n",
    "    sol = solver.solve(k_cheby_init, dirichlet)\n",
    "\n",
    "    T_sol = yy * jnp.log(xx + 3)\n",
    "    res = {\"N\":N,\"solution\":T_sol, \"result\":sol[\"T\"].reshape(dims), \"err\":jnp.mean(jnp.abs(T_sol  - sol[\"T\"].reshape(dims)))}\n",
    "    errs.append(jnp.mean(jnp.abs(T_sol  - sol[\"T\"].reshape(dims))))\n",
    "    result.append(res)"
   ]
  },
  {
   "cell_type": "code",
   "execution_count": null,
   "metadata": {},
   "outputs": [],
   "source": [
    "def f(x, a, b):\n",
    "    return - a*x * np.log(x) + b\n",
    "\n",
    "res = curve_fit(f, Ns, np.log(errs))"
   ]
  },
  {
   "cell_type": "code",
   "execution_count": null,
   "metadata": {},
   "outputs": [],
   "source": [
    "a = res[0][0]\n",
    "b = jnp.exp(res[0][1])"
   ]
  },
  {
   "cell_type": "code",
   "execution_count": null,
   "metadata": {},
   "outputs": [
    {
     "data": {
      "text/plain": [
       "(0.5362719472330162, Array(0.00010245, dtype=float64))"
      ]
     },
     "execution_count": 7,
     "metadata": {},
     "output_type": "execute_result"
    }
   ],
   "source": [
    "a,b"
   ]
  },
  {
   "cell_type": "code",
   "execution_count": null,
   "metadata": {},
   "outputs": [
    {
     "data": {
      "image/png": "[encoded data removed]",
      "text/plain": [
       "<Figure size 432x288 with 1 Axes>"
      ]
     },
     "metadata": {
      "needs_background": "light"
     },
     "output_type": "display_data"
    }
   ],
   "source": [
    "plt.figure(figsize=(6,4))\n",
    "plt.scatter(Ns, errs)\n",
    "plt.plot(Ns, jnp.exp(f(Ns, res[0][0], res[0][1])), label = \"$err = N^{-0.5N} $\")\n",
    "plt.yscale(\"log\")\n",
    "plt.xlabel(\"Number of Grid Points\")\n",
    "plt.ylabel(\"Absulte Error\")\n",
    "plt.legend()\n",
    "plt.savefig(\"../plot/accuracy.pdf\")"
   ]
  },
  {
   "cell_type": "code",
   "execution_count": null,
   "metadata": {},
   "outputs": [],
   "source": []
  }
 ],
 "metadata": {
  "kernelspec": {
   "display_name": "base",
   "language": "python",
   "name": "python3"
  },
  "language_info": {
   "codemirror_mode": {
    "name": "ipython",
    "version": 3
   },
   "file_extension": ".py",
   "mimetype": "text/x-python",
   "name": "python",
   "nbconvert_exporter": "python",
   "pygments_lexer": "ipython3",
   "version": "3.9.7"
  }
 },
 "nbformat": 4,
 "nbformat_minor": 2
}
