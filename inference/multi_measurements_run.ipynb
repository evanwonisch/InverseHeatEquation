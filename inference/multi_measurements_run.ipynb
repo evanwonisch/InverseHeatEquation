{
 "cells": [
  {
   "cell_type": "code",
   "execution_count": 3,
   "metadata": {},
   "outputs": [],
   "source": [
    "import sys\n",
    "sys.path.append(\"../\") # go to parent dir\n",
    "\n",
    "import jax\n",
    "import jax.numpy as jnp\n",
    "import numpy as np\n",
    "from matplotlib import pyplot as plt\n",
    "import module.chebyshev_solver as chb\n",
    "\n",
    "import optax\n",
    "from tqdm import tqdm\n",
    "key = jax.random.PRNGKey(5)"
   ]
  },
  {
   "cell_type": "code",
   "execution_count": 19,
   "metadata": {},
   "outputs": [],
   "source": [
    "gridsizes = jnp.array([10,15,20])\n",
    "Ns = jnp.arange(1, 10)\n",
    "maxss = []\n",
    "meanss = []\n",
    "errss = []"
   ]
  },
  {
   "cell_type": "code",
   "execution_count": 10,
   "metadata": {},
   "outputs": [
    {
     "name": "stderr",
     "output_type": "stream",
     "text": [
      "  0%|          | 0/1200 [00:00<?, ?it/s]"
     ]
    },
    {
     "name": "stderr",
     "output_type": "stream",
     "text": [
      "100%|██████████| 1200/1200 [00:04<00:00, 280.84it/s]\n",
      "100%|██████████| 1200/1200 [00:06<00:00, 172.38it/s]\n",
      "100%|██████████| 1200/1200 [00:07<00:00, 157.09it/s]\n"
     ]
    }
   ],
   "source": [
    "for gridsize in gridsizes:\n",
    "    solver = chb.Solver(N = gridsize)\n",
    "    xx = solver.xx\n",
    "    yy = solver.yy\n",
    "    grid = solver.grid\n",
    "    dims = (solver.N, solver.N)\n",
    "    mask = np.ones(dims)\n",
    "    mask[1:-1,1:-1] = 0\n",
    "    maskx = np.ones(dims)\n",
    "    maskx[:,1:-1] = 0\n",
    "    masky = np.ones(dims)\n",
    "    masky[1:-1,:] = 0\n",
    "    mask = jnp.array(mask)\n",
    "    ii, jj = jnp.meshgrid(jnp.arange(solver.N), jnp.arange(solver.N))\n",
    "    a = 1.4\n",
    "    index_decay = jnp.exp(-(ii+jj)/a)\n",
    "\n",
    "    k_cheby_init = jax.random.normal(key, shape = dims) * index_decay\n",
    "    k_cheby_init = k_cheby_init.at[0,0].set(k_cheby_init[0,0] + jnp.sum(index_decay)*2)\n",
    "    k_cheby_init = k_cheby_init.flatten()\n",
    "    k_init = (solver.I @ k_cheby_init).reshape(dims)\n",
    "\n",
    "    maxs = []\n",
    "    means = []\n",
    "\n",
    "    key = jax.random.PRNGKey(5)\n",
    "    for N in Ns:\n",
    "        N_measure = N\n",
    "        measurements = []\n",
    "        for i in range(N_measure):\n",
    "            key, _ = jax.random.split(key)\n",
    "\n",
    "            dirichlet_cheby = jax.random.normal(key, shape = dims) * index_decay\n",
    "            dirichlet = (solver.I @ dirichlet_cheby.flatten()).reshape(dims)\n",
    "            dirichlet *= mask\n",
    "\n",
    "            sol = solver.solve(k_cheby_init, dirichlet)\n",
    "\n",
    "            measurements.append((dirichlet, sol))\n",
    "\n",
    "        @jax.jit\n",
    "        def get_neumann(solution):\n",
    "            jx = (solution[\"dx T\"] * solution[\"k\"]).reshape(dims)\n",
    "            jy = (solution[\"dy T\"] * solution[\"k\"]).reshape(dims)\n",
    "\n",
    "            neumann = jnp.concatenate((jx[:,0], jy[-1,:], jx[:,-1], jy[0,:]), axis = 0)\n",
    "            return neumann\n",
    "\n",
    "        @jax.jit\n",
    "        def distance(solution, target_solution):\n",
    "            neumann = get_neumann(solution)\n",
    "            target_neumann = get_neumann(target_solution)\n",
    "\n",
    "            return jnp.sum((neumann - target_neumann)**2)\n",
    "\n",
    "        @jax.jit\n",
    "        def get_solution(k_param, dirichlet):\n",
    "            k_cheby = k_param[\"coeff\"] * index_decay\n",
    "            k_cheby = k_cheby.flatten()\n",
    "            solution = solver.solve(k_cheby, dirichlet)\n",
    "            return solution\n",
    "\n",
    "\n",
    "        @jax.jit\n",
    "        def get_solution_internal(k_cheby_flat, dirichlet):\n",
    "            solution = solver.solve(k_cheby_flat, dirichlet)\n",
    "            return solution\n",
    "        ## 3. Optimize parameters\n",
    "        @jax.jit\n",
    "        def loss(k_param):\n",
    "            acc = 0\n",
    "            for i in range(N_measure):\n",
    "                acc += distance(get_solution(k_param, measurements[i][0]), measurements[i][1])\n",
    "            return acc\n",
    "\n",
    "        @jax.jit\n",
    "        def loss_internal(k_cheby_flat):\n",
    "            acc = 0\n",
    "            for i in range(N_measure):\n",
    "                acc += distance(get_solution_internal(k_cheby_flat, measurements[i][0]), measurements[i][1])\n",
    "            return acc\n",
    "\n",
    "\n",
    "        ## 2. Initialise variational parameters\n",
    "        key, _ = jax.random.split(key)\n",
    "        k_cheby = jax.random.normal(key, shape = dims) * index_decay\n",
    "        k_cheby = k_cheby.at[0,0].set(k_cheby[0,0] + jnp.sum(index_decay))\n",
    "\n",
    "        k_param = {\"coeff\":k_cheby}\n",
    "\n",
    "\n",
    "        g = jax.value_and_grad(loss)\n",
    "        h = jax.hessian(loss_internal)\n",
    "        # define\n",
    "        optimizer = optax.sgd(learning_rate=0.0003)\n",
    "\n",
    "        # initialise\n",
    "        optimizer_state = optimizer.init(k_param)\n",
    "\n",
    "        err = []\n",
    "        for i in tqdm(range(1200)):\n",
    "            val, grad = g(k_param)\n",
    "            err.append(val)\n",
    "\n",
    "            updates, optimizer_state = optimizer.update(grad, optimizer_state, k_param)\n",
    "\n",
    "            k_param = optax.apply_updates(k_param, updates)\n",
    "        # plt.plot(err)\n",
    "        # plt.yscale(\"log\")\n",
    "        result = get_solution(k_param, measurements[0][0])\n",
    "        max = jnp.max(jnp.abs(result[\"k\"].reshape(dims) / (measurements[0][1][\"k\"].reshape(dims)) - 1))\n",
    "        maxs.append(np.array(max))\n",
    "        mean = jnp.mean(jnp.abs(result[\"k\"].reshape(dims) / (measurements[0][1][\"k\"].reshape(dims)) - 1))\n",
    "        means.append(np.array(mean))\n",
    "\n",
    "    maxss.append(maxs)\n",
    "    meanss.append(means)\n",
    "    errss.append(err)\n"
   ]
  },
  {
   "cell_type": "code",
   "execution_count": 17,
   "metadata": {},
   "outputs": [
    {
     "data": {
      "text/plain": [
       "Text(0, 0.5, 'Mean Relative Error')"
      ]
     },
     "execution_count": 17,
     "metadata": {},
     "output_type": "execute_result"
    },
    {
     "data": {
      "image/png": "[encoded data removed]",
      "text/plain": [
       "<Figure size 432x288 with 1 Axes>"
      ]
     },
     "metadata": {
      "needs_background": "light"
     },
     "output_type": "display_data"
    }
   ],
   "source": [
    "plt.scatter(Ns, meanss[0], label = \"N = \"+str(gridsizes[0]))\n",
    "plt.scatter(Ns, meanss[1], label = \"N = \"+str(gridsizes[1]))\n",
    "plt.scatter(Ns, meanss[2], label = \"N = \"+str(gridsizes[2]))\n",
    "plt.legend()\n",
    "plt.xlabel(\"Number of Measurements\")\n",
    "plt.ylabel(\"Mean Relative Error\")"
   ]
  }
 ],
 "metadata": {
  "kernelspec": {
   "display_name": "base",
   "language": "python",
   "name": "python3"
  },
  "language_info": {
   "codemirror_mode": {
    "name": "ipython",
    "version": 3
   },
   "file_extension": ".py",
   "mimetype": "text/x-python",
   "name": "python",
   "nbconvert_exporter": "python",
   "pygments_lexer": "ipython3",
   "version": "3.9.7"
  }
 },
 "nbformat": 4,
 "nbformat_minor": 2
}
