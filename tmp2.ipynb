{
 "cells": [
  {
   "cell_type": "code",
   "execution_count": 523,
   "metadata": {},
   "outputs": [],
   "source": [
    "import jax\n",
    "import jax.numpy as jnp\n",
    "import numpy as np\n",
    "from matplotlib import pyplot as plt\n",
    "import module.chebyshev_solver as chb\n",
    "\n",
    "import optax\n",
    "import module.sampler as samplers"
   ]
  },
  {
   "cell_type": "code",
   "execution_count": 558,
   "metadata": {},
   "outputs": [],
   "source": [
    "key = jax.random.PRNGKey(0)"
   ]
  },
  {
   "cell_type": "code",
   "execution_count": 524,
   "metadata": {},
   "outputs": [],
   "source": [
    "solver = chb.Solver(N = 50)\n",
    "xx = solver.xx\n",
    "yy = solver.yy\n",
    "grid = solver.grid"
   ]
  },
  {
   "cell_type": "code",
   "execution_count": 578,
   "metadata": {},
   "outputs": [
    {
     "data": {
      "image/png": "[encoded data removed]",
      "text/plain": [
       "<Figure size 432x288 with 2 Axes>"
      ]
     },
     "metadata": {
      "needs_background": "light"
     },
     "output_type": "display_data"
    }
   ],
   "source": [
    "k_cheby = jax.random.uniform(key, minval = -1, maxval = 1, shape = (solver.N, solver.N))\n",
    "k_cheby = k_cheby.at[0,0].set(3.5)\n",
    "\n",
    "ii, jj = jnp.meshgrid(np.arange(solver.N), np.arange(solver.N))\n",
    "r = 2\n",
    "overlay = jnp.exp(-(ii**2+jj**2) / r**2)\n",
    "\n",
    "k_cheby = k_cheby * overlay\n",
    "k = (solver.I @ k_cheby.flatten()).reshape(solver.N, solver.N)\n",
    "\n",
    "plt.imshow(k)\n",
    "plt.colorbar()\n",
    "\n",
    "key, _ = jax.random.split(key)"
   ]
  },
  {
   "cell_type": "code",
   "execution_count": 579,
   "metadata": {},
   "outputs": [
    {
     "data": {
      "text/plain": [
       "<matplotlib.image.AxesImage at 0x2f33837df70>"
      ]
     },
     "execution_count": 579,
     "metadata": {},
     "output_type": "execute_result"
    },
    {
     "data": {
      "image/png": "[encoded data removed]",
      "text/plain": [
       "<Figure size 432x288 with 1 Axes>"
      ]
     },
     "metadata": {
      "needs_background": "light"
     },
     "output_type": "display_data"
    }
   ],
   "source": [
    "dirichlet = jnp.zeros((solver.N,solver.N))\n",
    "dirichlet = jnp.cos(xx*yy**2 + xx)\n",
    "\n",
    "\n",
    "mask = np.ones((solver.N, solver.N))\n",
    "mask[1:-1,1:-1] = 0\n",
    "mask = jnp.array(mask)\n",
    "dirichlet *= mask\n",
    "\n",
    "plt.imshow(dirichlet)"
   ]
  },
  {
   "cell_type": "code",
   "execution_count": 580,
   "metadata": {},
   "outputs": [],
   "source": [
    "sol = solver.solve(k_cheby.flatten(), dirichlet)"
   ]
  },
  {
   "cell_type": "code",
   "execution_count": 572,
   "metadata": {},
   "outputs": [],
   "source": [
    "def get_neumann(solution):\n",
    "    jx = sol[\"dx T\"].reshape((solver.N,solver.N)) * solution[\"k\"].reshape((solver.N, solver.N))\n",
    "    jy = sol[\"dy T\"].reshape((solver.N,solver.N)) * solution[\"k\"].reshape((solver.N, solver.N))\n",
    "\n",
    "    return jx, jy"
   ]
  },
  {
   "cell_type": "code",
   "execution_count": 573,
   "metadata": {},
   "outputs": [],
   "source": [
    "neumann = get_neumann(sol)"
   ]
  },
  {
   "cell_type": "code",
   "execution_count": 574,
   "metadata": {},
   "outputs": [],
   "source": [
    "def loss(neumann_target, neumann_input):\n",
    "    jx_in = neumann_input[0]\n",
    "    jy_in = neumann_input[1]\n",
    "\n",
    "    jx_tar = neumann_target[0]\n",
    "    jy_tar = neumann_target[1]\n",
    "\n",
    "    dx = jnp.sum((jx_in[0,:] - jx_tar[0,:])**2) + np.sum((jx_in[-1,:] - jx_tar[-1,:])**2)\n",
    "    dy = jnp.sum((jy_in[:,0] - jy_tar[:,0])**2) + np.sum((jy_in[:,-1] - jy_tar[:,-1])**2)\n",
    "\n",
    "    return dx + dy"
   ]
  },
  {
   "cell_type": "code",
   "execution_count": 581,
   "metadata": {},
   "outputs": [
    {
     "data": {
      "text/plain": [
       "Array(121.2801, dtype=float32)"
      ]
     },
     "execution_count": 581,
     "metadata": {},
     "output_type": "execute_result"
    }
   ],
   "source": [
    "loss(neumann, get_neumann(sol))"
   ]
  },
  {
   "cell_type": "code",
   "execution_count": null,
   "metadata": {},
   "outputs": [],
   "source": []
  }
 ],
 "metadata": {
  "kernelspec": {
   "display_name": "base",
   "language": "python",
   "name": "python3"
  },
  "language_info": {
   "codemirror_mode": {
    "name": "ipython",
    "version": 3
   },
   "file_extension": ".py",
   "mimetype": "text/x-python",
   "name": "python",
   "nbconvert_exporter": "python",
   "pygments_lexer": "ipython3",
   "version": "3.9.7"
  }
 },
 "nbformat": 4,
 "nbformat_minor": 2
}
