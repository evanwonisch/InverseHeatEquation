{
 "cells": [
  {
   "cell_type": "code",
   "execution_count": 20,
   "metadata": {},
   "outputs": [],
   "source": [
    "import numpy as np\n",
    "import jax\n",
    "import jax.numpy as jnp"
   ]
  },
  {
   "cell_type": "code",
   "execution_count": 22,
   "metadata": {},
   "outputs": [],
   "source": [
    "@jax.jit\n",
    "def f(A):\n",
    "    return jnp.linalg.inv(A)"
   ]
  },
  {
   "cell_type": "code",
   "execution_count": null,
   "metadata": {},
   "outputs": [],
   "source": []
  },
  {
   "cell_type": "code",
   "execution_count": null,
   "metadata": {},
   "outputs": [],
   "source": []
  },
  {
   "cell_type": "code",
   "execution_count": 31,
   "metadata": {},
   "outputs": [],
   "source": [
    "A = np.random.normal(size = (900,900))"
   ]
  },
  {
   "cell_type": "code",
   "execution_count": 39,
   "metadata": {},
   "outputs": [
    {
     "data": {
      "text/plain": [
       "Array([[-0.07484713,  0.02725835, -0.0441969 , ..., -0.00181581,\n",
       "         0.05481233, -0.02268835],\n",
       "       [ 0.06450699, -0.04146198,  0.01862259, ...,  0.0159741 ,\n",
       "        -0.02599708,  0.02386431],\n",
       "       [ 0.08156448, -0.0426208 ,  0.05240278, ...,  0.00618392,\n",
       "        -0.01204011,  0.01771175],\n",
       "       ...,\n",
       "       [ 0.01677089,  0.00035448, -0.00436414, ..., -0.00439434,\n",
       "         0.05284856, -0.0164031 ],\n",
       "       [-0.09699886,  0.11673602, -0.0048939 , ..., -0.03234272,\n",
       "         0.01370152,  0.01639123],\n",
       "       [-0.04817633,  0.02522084, -0.00033345, ...,  0.01833156,\n",
       "        -0.00584982, -0.01838292]], dtype=float32)"
      ]
     },
     "execution_count": 39,
     "metadata": {},
     "output_type": "execute_result"
    }
   ],
   "source": [
    "f(A)"
   ]
  },
  {
   "cell_type": "code",
   "execution_count": 40,
   "metadata": {},
   "outputs": [
    {
     "data": {
      "text/plain": [
       "3.4722222222222223"
      ]
     },
     "execution_count": 40,
     "metadata": {},
     "output_type": "execute_result"
    }
   ],
   "source": [
    "0.3*1e6/(24*60*60)"
   ]
  }
 ],
 "metadata": {
  "kernelspec": {
   "display_name": "base",
   "language": "python",
   "name": "python3"
  },
  "language_info": {
   "codemirror_mode": {
    "name": "ipython",
    "version": 3
   },
   "file_extension": ".py",
   "mimetype": "text/x-python",
   "name": "python",
   "nbconvert_exporter": "python",
   "pygments_lexer": "ipython3",
   "version": "3.9.7"
  }
 },
 "nbformat": 4,
 "nbformat_minor": 2
}
