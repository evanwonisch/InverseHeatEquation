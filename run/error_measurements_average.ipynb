{
 "cells": [
  {
   "cell_type": "code",
   "execution_count": 2,
   "metadata": {},
   "outputs": [],
   "source": [
    "import sys\n",
    "sys.path.append(\"../\") # go to parent dir\n",
    "\n",
    "import jax\n",
    "import jax.numpy as jnp\n",
    "import numpy as np\n",
    "from matplotlib import pyplot as plt\n",
    "import module.chebyshev_solver as chb\n",
    "\n",
    "import optax\n",
    "from tqdm import tqdm\n",
    "key = jax.random.PRNGKey(5)\n",
    "\n",
    "from scipy.optimize import curve_fit"
   ]
  },
  {
   "cell_type": "markdown",
   "metadata": {},
   "source": [
    "## Increasing the Number of Measurements\n",
    "In this notebook we want to investigate the dependence of the error of the inferred conductivity k on the number of imposed measurements. Therefore,\n",
    "we generate a condictivity k and infer k by including different amounts of measurements (meaning pairs of dirichlet and neumann pairs). This analysis can be done for different grid sizes. It is found that the error decreases with the number of measurements."
   ]
  },
  {
   "cell_type": "code",
   "execution_count": 15,
   "metadata": {},
   "outputs": [],
   "source": [
    "Ns = jnp.arange(1, 11)  # number of measurements\n",
    "n_k_init = 30           # averaging over many runs"
   ]
  },
  {
   "cell_type": "code",
   "execution_count": 16,
   "metadata": {},
   "outputs": [
    {
     "name": "stderr",
     "output_type": "stream",
     "text": [
      "100%|██████████| 20/20 [00:01<00:00, 13.86it/s]\n",
      "100%|██████████| 20/20 [00:01<00:00, 12.63it/s]\n",
      "100%|██████████| 20/20 [00:01<00:00, 16.00it/s]\n",
      "100%|██████████| 20/20 [00:01<00:00, 12.46it/s]\n",
      "100%|██████████| 20/20 [00:01<00:00, 18.51it/s]\n",
      "100%|██████████| 20/20 [00:01<00:00, 12.84it/s]\n",
      "100%|██████████| 20/20 [00:01<00:00, 18.22it/s]\n",
      "100%|██████████| 20/20 [00:01<00:00, 11.40it/s]\n",
      "100%|██████████| 20/20 [00:01<00:00, 13.77it/s]\n",
      "100%|██████████| 20/20 [00:01<00:00, 12.06it/s]\n"
     ]
    }
   ],
   "source": [
    "solver = chb.Solver(N = 10)     # initialise solver\n",
    "xx = solver.xx                  # this code is equivalent to the code in multi_measurements.ipynb\n",
    "yy = solver.yy\n",
    "grid = solver.grid\n",
    "dims = (solver.N, solver.N)\n",
    "mask = np.ones(dims)\n",
    "mask[1:-1,1:-1] = 0\n",
    "maskx = np.ones(dims)\n",
    "maskx[:,1:-1] = 0\n",
    "masky = np.ones(dims)\n",
    "masky[1:-1,:] = 0\n",
    "mask = jnp.array(mask)\n",
    "ii, jj = jnp.meshgrid(jnp.arange(solver.N), jnp.arange(solver.N))\n",
    "a = 1.2\n",
    "index_decay = jnp.exp(-(ii+jj)/a)\n",
    "\n",
    "res_maxs = []\n",
    "res_means = []\n",
    "\n",
    "for m in range(n_k_init):       # loop for averaging the error over many runs\n",
    "\n",
    "    # generate a conductivity which has to be inferred\n",
    "    k_cheby_init = jax.random.normal(key, shape = dims) * index_decay\n",
    "    k_cheby_init = k_cheby_init.at[0,0].set(k_cheby_init[0,0] + jnp.sum(index_decay)*2)\n",
    "    k_cheby_init = k_cheby_init.flatten()\n",
    "    k_init = (solver.I @ k_cheby_init).reshape(dims)\n",
    "\n",
    "    maxs = []\n",
    "    means = []\n",
    "\n",
    "    for N in Ns:        # loop through the number of measurements\n",
    "\n",
    "        # generate measurements\n",
    "        measurements = []\n",
    "        for i in range(N):\n",
    "            key, _ = jax.random.split(key)\n",
    "\n",
    "            dirichlet_cheby = jax.random.normal(key, shape = dims) * index_decay\n",
    "            dirichlet = (solver.I @ dirichlet_cheby.flatten()).reshape(dims)\n",
    "            dirichlet *= mask\n",
    "\n",
    "            sol = solver.solve(k_cheby_init, dirichlet)\n",
    "\n",
    "            measurements.append((dirichlet, sol))\n",
    "\n",
    "\n",
    "        ##############\n",
    "        # Helper Functions\n",
    "        ##############\n",
    "\n",
    "        @jax.jit\n",
    "        def get_neumann(solution):\n",
    "            jx = (solution[\"dx T\"] * solution[\"k\"]).reshape(dims)\n",
    "            jy = (solution[\"dy T\"] * solution[\"k\"]).reshape(dims)\n",
    "\n",
    "            neumann = jnp.concatenate((jx[:,0], jy[-1,:], jx[:,-1], jy[0,:]), axis = 0)\n",
    "            return neumann\n",
    "\n",
    "        @jax.jit\n",
    "        def distance(solution, target_solution):\n",
    "            neumann = get_neumann(solution)\n",
    "            target_neumann = get_neumann(target_solution)\n",
    "\n",
    "            return jnp.sum((neumann - target_neumann)**2)\n",
    "\n",
    "        @jax.jit\n",
    "        def get_solution(k_param, dirichlet):\n",
    "            k_cheby = k_param[\"coeff\"] * index_decay\n",
    "            k_cheby = k_cheby.flatten()\n",
    "            solution = solver.solve(k_cheby, dirichlet)\n",
    "            return solution\n",
    "\n",
    "\n",
    "        @jax.jit\n",
    "        def get_solution_internal(k_cheby_flat, dirichlet):\n",
    "            solution = solver.solve(k_cheby_flat, dirichlet)\n",
    "            return solution\n",
    "        ## 3. Optimize parameters\n",
    "        @jax.jit\n",
    "        def loss(k_param):\n",
    "            acc = 0\n",
    "            for i in range(N):\n",
    "                acc += distance(get_solution(k_param, measurements[i][0]), measurements[i][1])\n",
    "            return acc\n",
    "\n",
    "        @jax.jit\n",
    "        def loss_internal(k_cheby_flat):\n",
    "            acc = 0\n",
    "            for i in range(N):\n",
    "                acc += distance(get_solution_internal(k_cheby_flat, measurements[i][0]), measurements[i][1])\n",
    "            return acc\n",
    "        \n",
    "        \n",
    "        ## 2. Initialise variational parameters\n",
    "        key, _ = jax.random.split(key)\n",
    "        k_cheby = jax.random.normal(key, shape = dims) * index_decay\n",
    "        k_cheby = k_cheby.at[0,0].set(k_cheby[0,0] + jnp.sum(index_decay))\n",
    "        k_param = {\"coeff\":k_cheby}\n",
    "\n",
    "\n",
    "        g = jax.value_and_grad(loss)\n",
    "        h = jax.hessian(loss_internal)\n",
    "        # define\n",
    "        optimizer = optax.sgd(learning_rate=0.0003)\n",
    "\n",
    "        # initialise\n",
    "        optimizer_state = optimizer.init(k_param)\n",
    "\n",
    "        err = []\n",
    "        for i in tqdm(range(20)):     # optimisation loop\n",
    "            val, grad = g(k_param)\n",
    "            err.append(val)\n",
    "\n",
    "            updates, optimizer_state = optimizer.update(grad, optimizer_state, k_param)\n",
    "\n",
    "            k_param = optax.apply_updates(k_param, updates)\n",
    "\n",
    "\n",
    "        # store data\n",
    "        result = get_solution(k_param, measurements[0][0])\n",
    "        max = jnp.max(jnp.abs(result[\"k\"].reshape(dims) / (measurements[0][1][\"k\"].reshape(dims)) - 1))\n",
    "        maxs.append(np.array(max))\n",
    "        mean = jnp.mean(jnp.abs(result[\"k\"].reshape(dims) / (measurements[0][1][\"k\"].reshape(dims)) - 1))\n",
    "        means.append(np.array(mean))\n",
    "\n",
    "    res_maxs.append(maxs)\n",
    "    res_means.append(means)\n",
    "\n",
    "res_maxs = np.array(res_maxs)\n",
    "res_means = np.array(res_means)\n",
    "# np.save(\"../data/means\", res_means)\n",
    "# np.save(\"../data/maxs\", res_maxs)"
   ]
  },
  {
   "cell_type": "code",
   "execution_count": 19,
   "metadata": {},
   "outputs": [],
   "source": [
    "#\n",
    "# load data\n",
    "#\n",
    "\n",
    "means = np.load(\"../data/means.npy\")\n",
    "maxs = np.load(\"../data/maxs.npy\")\n",
    "\n",
    "means = np.mean(means, axis = 0)\n",
    "maxs = np.mean(maxs, axis = 0)"
   ]
  },
  {
   "cell_type": "code",
   "execution_count": 21,
   "metadata": {},
   "outputs": [],
   "source": [
    "#\n",
    "# polynomial fit function\n",
    "#\n",
    "\n",
    "def f(x, a, b):\n",
    "    return a * x + b \n",
    "\n",
    "res_means_fit = curve_fit(f, np.log(Ns), np.log(means))\n",
    "res_maxs_fit = curve_fit(f, np.log(Ns), np.log(maxs))"
   ]
  },
  {
   "cell_type": "code",
   "execution_count": 22,
   "metadata": {},
   "outputs": [
    {
     "name": "stdout",
     "output_type": "stream",
     "text": [
      "[-0.49662566 -0.79741203]\n",
      "[-0.7402014  -1.03690135]\n"
     ]
    },
    {
     "data": {
      "image/png": "[encoded data removed]",
      "text/plain": [
       "<Figure size 432x288 with 1 Axes>"
      ]
     },
     "metadata": {
      "needs_background": "light"
     },
     "output_type": "display_data"
    }
   ],
   "source": [
    "plt.title('Error vs Number of Measurments')\n",
    "plt.plot(Ns,np.e**f(np.log(Ns),res_means_fit[0][0],res_means_fit[0][1]),label='Mean Error ~ $N^{-0.35}$')\n",
    "plt.scatter(Ns,means)\n",
    "plt.plot(Ns,np.e**f(np.log(Ns),res_maxs_fit[0][0],res_maxs_fit[0][1]),label = 'Max Error ~ $N^{-0.24}$')\n",
    "plt.scatter(Ns,maxs)\n",
    "plt.legend()\n",
    "plt.ylabel('Error in %')\n",
    "plt.xlabel('Number of Measurments')\n",
    "print(res_maxs_fit[0])\n",
    "print(res_means_fit[0])\n",
    "plt.savefig(\"../plot/ErrFor20x20Measurments.pdf\")"
   ]
  },
  {
   "cell_type": "markdown",
   "metadata": {},
   "source": [
    "---"
   ]
  }
 ],
 "metadata": {
  "kernelspec": {
   "display_name": "base",
   "language": "python",
   "name": "python3"
  },
  "language_info": {
   "codemirror_mode": {
    "name": "ipython",
    "version": 3
   },
   "file_extension": ".py",
   "mimetype": "text/x-python",
   "name": "python",
   "nbconvert_exporter": "python",
   "pygments_lexer": "ipython3",
   "version": "3.9.7"
  }
 },
 "nbformat": 4,
 "nbformat_minor": 2
}
