{
 "cells": [
  {
   "cell_type": "code",
   "execution_count": 64,
   "metadata": {},
   "outputs": [],
   "source": [
    "import sys\n",
    "sys.path.append(\"../\") # go to parent dir\n",
    "\n",
    "import jax\n",
    "import jax.numpy as jnp\n",
    "import numpy as np\n",
    "from matplotlib import pyplot as plt\n",
    "import module.chebyshev_solver as chb\n",
    "\n",
    "import optax\n",
    "from tqdm import tqdm"
   ]
  },
  {
   "cell_type": "code",
   "execution_count": 73,
   "metadata": {},
   "outputs": [],
   "source": [
    "key = jax.random.PRNGKey(25)"
   ]
  },
  {
   "cell_type": "markdown",
   "metadata": {},
   "source": [
    "## Explore the Loss Landscape in 2D\n",
    "We parametrise the conductivity k with a guassian of fixed variance, parametrised by its two-dimensional position. Here we plot the loss function for the entire 2D grid of possible position values to find out about the structure of the loss function."
   ]
  },
  {
   "cell_type": "code",
   "execution_count": 74,
   "metadata": {},
   "outputs": [],
   "source": [
    "solver = chb.Solver(N = 10) # initialise solver\n",
    "xx = solver.xx              # this code is equivalent to the code in multi_measurement.ipynb\n",
    "yy = solver.yy\n",
    "grid = solver.grid\n",
    "dims = (solver.N, solver.N)\n",
    "mask = np.ones(dims)\n",
    "mask[1:-1,1:-1] = 0\n",
    "maskx = np.ones(dims)\n",
    "maskx[:,1:-1] = 0\n",
    "masky = np.ones(dims)\n",
    "masky[1:-1,:] = 0\n",
    "mask = jnp.array(mask)\n",
    "ii, jj = jnp.meshgrid(jnp.arange(solver.N), jnp.arange(solver.N))\n",
    "a = 1.4\n",
    "index_decay = jnp.exp(-(ii+jj)/a)\n",
    "\n",
    "mu_init = jnp.array([0.5,0.8])  # generate initial conductivity which is a gaussian at this position\n",
    "sigma = jnp.array(0.6) \n",
    "k_init = jnp.exp(-((xx - mu_init[0])**2+(yy - mu_init[1])**2) / sigma) + 0.1\n",
    "k_cheby_init = solver.invI @ k_init.flatten()\n",
    "\n",
    "key, _ = jax.random.split(key)\n",
    "\n",
    "dirichlet_cheby = jax.random.normal(key, shape = dims) * index_decay   # generate only one measurement\n",
    "dirichlet = (solver.I @ dirichlet_cheby.flatten()).reshape(dims)\n",
    "dirichlet *= mask\n",
    "\n",
    "target_solution = solver.solve(k_cheby_init, dirichlet)\n",
    "\n",
    "#####################\n",
    "# Helper Functions\n",
    "#####################\n",
    "\n",
    "@jax.jit\n",
    "def get_neumann(solution):\n",
    "    jx = (solution[\"dx T\"] * solution[\"k\"]).reshape(dims)\n",
    "    jy = (solution[\"dy T\"] * solution[\"k\"]).reshape(dims)\n",
    "\n",
    "    neumann = jnp.concatenate((jx[:,0], jy[-1,:], jx[:,-1], jy[0,:]), axis = 0)\n",
    "    return neumann\n",
    "\n",
    "@jax.jit\n",
    "def distance(solution, target_solution):\n",
    "    neumann = get_neumann(solution)\n",
    "    target_neumann = get_neumann(target_solution)\n",
    "\n",
    "    return jnp.sum((neumann- target_neumann)**2)"
   ]
  },
  {
   "cell_type": "code",
   "execution_count": 75,
   "metadata": {},
   "outputs": [],
   "source": [
    "@jax.jit\n",
    "def get_k(mu, sigma):\n",
    "    \"\"\"\n",
    "    Parametrisation of the conductivity k.\n",
    "    \"\"\"\n",
    "    k = jnp.exp(-((xx - mu[0])**2+(yy - mu[1])**2) / sigma) + 0.1\n",
    "    k_cheby = solver.invI @ k.flatten()\n",
    "    return k_cheby"
   ]
  },
  {
   "cell_type": "code",
   "execution_count": 76,
   "metadata": {},
   "outputs": [],
   "source": [
    "@jax.jit\n",
    "def image(mu, sigma):\n",
    "    \"\"\"\n",
    "    Calculate the pixel value of an image.\n",
    "    \"\"\"\n",
    "    return distance(solver.solve(get_k(mu, sigma), dirichlet), target_solution)"
   ]
  },
  {
   "cell_type": "code",
   "execution_count": 77,
   "metadata": {},
   "outputs": [],
   "source": [
    "####################\n",
    "# generate image\n",
    "####################"
   ]
  },
  {
   "cell_type": "code",
   "execution_count": 78,
   "metadata": {},
   "outputs": [
    {
     "name": "stdout",
     "output_type": "stream",
     "text": [
      "0.0\n",
      "0.04\n",
      "0.08\n",
      "0.12\n",
      "0.16\n",
      "0.2\n",
      "0.24\n",
      "0.28\n",
      "0.32\n",
      "0.36\n",
      "0.4\n",
      "0.44\n",
      "0.48\n",
      "0.52\n",
      "0.56\n",
      "0.6\n",
      "0.64\n",
      "0.68\n",
      "0.72\n",
      "0.76\n",
      "0.8\n",
      "0.84\n",
      "0.88\n",
      "0.92\n",
      "0.96\n"
     ]
    }
   ],
   "source": [
    "num = 50 # image resolution\n",
    "\n",
    "im = np.zeros(shape = (num,num))\n",
    "for i, x in enumerate(jnp.linspace(0.25,0.75, num)):\n",
    "    for j, y in enumerate(jnp.linspace(0.5,1, num)):\n",
    "            im[i,j] = image(jnp.array(jnp.array([x, y])), sigma = 0.6)\n",
    "\n",
    "            if (i*num + j) % 100 == 0:\n",
    "                print((i*num + j)/ num**2)"
   ]
  },
  {
   "cell_type": "code",
   "execution_count": 79,
   "metadata": {},
   "outputs": [],
   "source": [
    "### show loss function for different sizes of the gaussian blob"
   ]
  },
  {
   "cell_type": "code",
   "execution_count": 80,
   "metadata": {},
   "outputs": [
    {
     "data": {
      "image/png": "[encoded data removed]",
      "text/plain": [
       "<Figure size 432x288 with 2 Axes>"
      ]
     },
     "metadata": {
      "needs_background": "light"
     },
     "output_type": "display_data"
    }
   ],
   "source": [
    "plt.figure()\n",
    "plt.imshow(jnp.flip(jnp.log(im[:,:]), 1).T, extent = [0.25,0.75,0.5,1])\n",
    "plt.scatter(mu_init[0], mu_init[1], color = \"r\", label = \"original k\", marker = \"+\")\n",
    "plt.xlabel(\"x\")\n",
    "plt.ylabel(\"y\")\n",
    "plt.colorbar()\n",
    "plt.title(\"The log-loss for the position of a gaussian\")\n",
    "plt.legend()\n",
    "plt.savefig(\"../plot/gaussian2.pdf\")"
   ]
  },
  {
   "cell_type": "markdown",
   "metadata": {},
   "source": [
    "---"
   ]
  },
  {
   "cell_type": "markdown",
   "metadata": {},
   "source": []
  }
 ],
 "metadata": {
  "kernelspec": {
   "display_name": "base",
   "language": "python",
   "name": "python3"
  },
  "language_info": {
   "codemirror_mode": {
    "name": "ipython",
    "version": 3
   },
   "file_extension": ".py",
   "mimetype": "text/x-python",
   "name": "python",
   "nbconvert_exporter": "python",
   "pygments_lexer": "ipython3",
   "version": "3.9.7"
  }
 },
 "nbformat": 4,
 "nbformat_minor": 2
}
