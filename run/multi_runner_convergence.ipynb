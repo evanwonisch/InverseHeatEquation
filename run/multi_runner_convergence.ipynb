{
 "cells": [
  {
   "cell_type": "code",
   "execution_count": 2,
   "metadata": {},
   "outputs": [],
   "source": [
    "import sys\n",
    "sys.path.append(\"../\") # go to parent dir\n",
    "\n",
    "import jax\n",
    "import jax.numpy as jnp\n",
    "import numpy as np\n",
    "from matplotlib import pyplot as plt\n",
    "import module.chebyshev_solver as chb\n",
    "\n",
    "import optax\n",
    "from tqdm import tqdm\n",
    "key = jax.random.PRNGKey(5)"
   ]
  },
  {
   "cell_type": "markdown",
   "metadata": {},
   "source": [
    "## Idea\n",
    "We want to check that different initial conductivity guesses converge to the same minimum of the loss function. Therefore we spawn different k randomly and let them evolve for a long time."
   ]
  },
  {
   "cell_type": "code",
   "execution_count": 3,
   "metadata": {},
   "outputs": [],
   "source": [
    "n_k_init = 25"
   ]
  },
  {
   "cell_type": "code",
   "execution_count": 4,
   "metadata": {},
   "outputs": [],
   "source": [
    "solver = chb.Solver(N = 10)\n",
    "xx = solver.xx\n",
    "yy = solver.yy\n",
    "grid = solver.grid\n",
    "dims = (solver.N, solver.N)\n",
    "mask = np.ones(dims)\n",
    "mask[1:-1,1:-1] = 0\n",
    "maskx = np.ones(dims)\n",
    "maskx[:,1:-1] = 0\n",
    "masky = np.ones(dims)\n",
    "masky[1:-1,:] = 0\n",
    "mask = jnp.array(mask)\n",
    "ii, jj = jnp.meshgrid(jnp.arange(solver.N), jnp.arange(solver.N))\n",
    "a = 1.4\n",
    "index_decay = jnp.exp(-(ii+jj)/a)\n",
    "\n",
    "k_cheby_init = jax.random.normal(key, shape = dims) * index_decay\n",
    "k_cheby_init = k_cheby_init.at[0,0].set(k_cheby_init[0,0] + jnp.sum(index_decay)*2)\n",
    "k_cheby_init = k_cheby_init.flatten()\n",
    "k_init = (solver.I @ k_cheby_init).reshape(dims)\n",
    "\n",
    "N_measure = 10\n",
    "measurements = []\n",
    "for i in range(N_measure):\n",
    "    key, _ = jax.random.split(key)\n",
    "\n",
    "    dirichlet_cheby = jax.random.normal(key, shape = dims) * index_decay\n",
    "    dirichlet = (solver.I @ dirichlet_cheby.flatten()).reshape(dims)\n",
    "    dirichlet *= mask\n",
    "\n",
    "    sol = solver.solve(k_cheby_init, dirichlet)\n",
    "\n",
    "    measurements.append((dirichlet, sol))"
   ]
  },
  {
   "cell_type": "code",
   "execution_count": 43,
   "metadata": {},
   "outputs": [
    {
     "name": "stderr",
     "output_type": "stream",
     "text": [
      "100%|██████████| 10000/10000 [07:56<00:00, 20.97it/s]\n",
      "100%|██████████| 10000/10000 [07:54<00:00, 21.08it/s]\n",
      "100%|██████████| 10000/10000 [08:09<00:00, 20.45it/s]\n",
      "100%|██████████| 10000/10000 [08:05<00:00, 20.61it/s]\n",
      "100%|██████████| 10000/10000 [08:05<00:00, 20.59it/s]\n",
      "100%|██████████| 10000/10000 [08:05<00:00, 20.61it/s]\n",
      "100%|██████████| 10000/10000 [08:06<00:00, 20.57it/s]\n",
      "100%|██████████| 10000/10000 [08:05<00:00, 20.61it/s]\n",
      "100%|██████████| 10000/10000 [08:06<00:00, 20.56it/s]\n",
      "100%|██████████| 10000/10000 [08:06<00:00, 20.56it/s]\n",
      "100%|██████████| 10000/10000 [08:06<00:00, 20.55it/s]\n",
      "100%|██████████| 10000/10000 [08:06<00:00, 20.54it/s]\n",
      "100%|██████████| 10000/10000 [08:07<00:00, 20.52it/s]\n",
      "100%|██████████| 10000/10000 [08:06<00:00, 20.55it/s]\n",
      "100%|██████████| 10000/10000 [08:05<00:00, 20.59it/s]\n",
      "100%|██████████| 10000/10000 [08:06<00:00, 20.53it/s]\n",
      "100%|██████████| 10000/10000 [08:07<00:00, 20.53it/s]\n",
      "100%|██████████| 10000/10000 [08:08<00:00, 20.45it/s]\n",
      "100%|██████████| 10000/10000 [08:07<00:00, 20.51it/s]\n",
      "100%|██████████| 10000/10000 [08:08<00:00, 20.45it/s]\n",
      "100%|██████████| 10000/10000 [08:11<00:00, 20.33it/s]\n",
      "100%|██████████| 10000/10000 [08:09<00:00, 20.41it/s]\n",
      "100%|██████████| 10000/10000 [08:08<00:00, 20.47it/s]\n",
      "100%|██████████| 10000/10000 [08:09<00:00, 20.43it/s]\n",
      "100%|██████████| 10000/10000 [08:09<00:00, 20.43it/s]\n"
     ]
    }
   ],
   "source": [
    "res_params = []\n",
    "for m in range(n_k_init):\n",
    "    params = []\n",
    "        \n",
    "    @jax.jit\n",
    "    def get_neumann(solution):\n",
    "        jx = (solution[\"dx T\"] * solution[\"k\"]).reshape(dims)\n",
    "        jy = (solution[\"dy T\"] * solution[\"k\"]).reshape(dims)\n",
    "\n",
    "        neumann = jnp.concatenate((jx[:,0], jy[-1,:], jx[:,-1], jy[0,:]), axis = 0)\n",
    "        return neumann\n",
    "\n",
    "    @jax.jit\n",
    "    def distance(solution, target_solution):\n",
    "        neumann = get_neumann(solution)\n",
    "        target_neumann = get_neumann(target_solution)\n",
    "\n",
    "        return jnp.sqrt(jnp.sum((neumann - target_neumann)**2))\n",
    "\n",
    "    @jax.jit\n",
    "    def get_solution(k_param, dirichlet):\n",
    "        k_cheby = k_param[\"coeff\"] * index_decay\n",
    "        k_cheby = k_cheby.flatten()\n",
    "        solution = solver.solve(k_cheby, dirichlet)\n",
    "        return solution\n",
    "\n",
    "\n",
    "    @jax.jit\n",
    "    def get_solution_internal(k_cheby_flat, dirichlet):\n",
    "        solution = solver.solve(k_cheby_flat, dirichlet)\n",
    "        return solution\n",
    "    ## 3. Optimize parameters\n",
    "    @jax.jit\n",
    "    def loss(k_param):\n",
    "        acc = 0\n",
    "        for i in range(N_measure):\n",
    "            acc += distance(get_solution(k_param, measurements[i][0]), measurements[i][1])\n",
    "        return acc\n",
    "\n",
    "    @jax.jit\n",
    "    def loss_internal(k_cheby_flat):\n",
    "        acc = 0\n",
    "        for i in range(N_measure):\n",
    "            acc += distance(get_solution_internal(k_cheby_flat, measurements[i][0]), measurements[i][1])\n",
    "        return acc\n",
    "    \n",
    "    \n",
    "    ## 2. Initialise variational parameters\n",
    "    key, _ = jax.random.split(key)\n",
    "    k_cheby = jax.random.normal(key, shape = dims) * index_decay\n",
    "    k_cheby = k_cheby.at[0,0].set(k_cheby[0,0] + jnp.sum(index_decay))\n",
    "    k_param = {\"coeff\":k_cheby}\n",
    "\n",
    "\n",
    "    g = jax.value_and_grad(loss)\n",
    "    h = jax.hessian(loss_internal)\n",
    "    # define\n",
    "    optimizer = optax.sgd(learning_rate=0.003)\n",
    "\n",
    "    # initialise\n",
    "    optimizer_state = optimizer.init(k_param)\n",
    "\n",
    "    err = []\n",
    "    for i in tqdm(range(10000)):\n",
    "        val, grad = g(k_param)\n",
    "        err.append(val)\n",
    "\n",
    "        updates, optimizer_state = optimizer.update(grad, optimizer_state, k_param)\n",
    "\n",
    "        k_param = optax.apply_updates(k_param, updates)\n",
    "\n",
    "        if i % 10 == 0:\n",
    "            params.append(k_param)\n",
    "\n",
    "    res_params.append(params)"
   ]
  },
  {
   "cell_type": "code",
   "execution_count": null,
   "metadata": {},
   "outputs": [],
   "source": [
    "array = jnp.array([[param[\"coeff\"] for param in params] for params in res_params])\n",
    "#####  jnp.save(\"../data/multirunners\", array)"
   ]
  },
  {
   "cell_type": "code",
   "execution_count": 5,
   "metadata": {},
   "outputs": [],
   "source": [
    "# array saved\n",
    "array = jnp.load(\"../data/multirunners.npy\")"
   ]
  },
  {
   "cell_type": "code",
   "execution_count": 15,
   "metadata": {},
   "outputs": [
    {
     "data": {
      "image/png": "[encoded data removed]",
      "text/plain": [
       "<Figure size 288x720 with 10 Axes>"
      ]
     },
     "metadata": {
      "needs_background": "light"
     },
     "output_type": "display_data"
    }
   ],
   "source": [
    "fig, axs = plt.subplots(5, 2, figsize = (4,10))\n",
    "\n",
    "for i in range(5):\n",
    "    axs[i,0].imshow((solver.I @ array[i,0].flatten()).reshape(dims))\n",
    "    axs[i,0].set_title(\"initial random guess\")\n",
    "    axs[i,1].imshow((solver.I @ (array[i,-1] * index_decay).flatten()).reshape(dims))\n",
    "    axs[i,1].set_title(\"converges to\")\n",
    "\n",
    "\n",
    "fig.tight_layout()\n",
    "\n",
    "plt.savefig(\"../plot/runner_convergence.pdf\")"
   ]
  },
  {
   "cell_type": "code",
   "execution_count": null,
   "metadata": {},
   "outputs": [],
   "source": []
  },
  {
   "cell_type": "markdown",
   "metadata": {},
   "source": [
    "---"
   ]
  }
 ],
 "metadata": {
  "kernelspec": {
   "display_name": "base",
   "language": "python",
   "name": "python3"
  },
  "language_info": {
   "codemirror_mode": {
    "name": "ipython",
    "version": 3
   },
   "file_extension": ".py",
   "mimetype": "text/x-python",
   "name": "python",
   "nbconvert_exporter": "python",
   "pygments_lexer": "ipython3",
   "version": "3.9.7"
  }
 },
 "nbformat": 4,
 "nbformat_minor": 2
}
