{
 "cells": [
  {
   "cell_type": "code",
   "execution_count": 1,
   "metadata": {},
   "outputs": [],
   "source": [
    "import numpy as np\n",
    "from matplotlib import pyplot as plt"
   ]
  },
  {
   "cell_type": "code",
   "execution_count": 2,
   "metadata": {},
   "outputs": [],
   "source": [
    "np.set_printoptions(precision=3)"
   ]
  },
  {
   "cell_type": "code",
   "execution_count": 82,
   "metadata": {},
   "outputs": [],
   "source": [
    "N_coeff = 50\n",
    "\n",
    "dims = (N_coeff, N_coeff)"
   ]
  },
  {
   "cell_type": "code",
   "execution_count": 127,
   "metadata": {},
   "outputs": [],
   "source": [
    "grid = np.cos((2*np.arange(N_coeff) + 1)*np.pi/2/N_coeff)\n",
    "\n",
    "yy, xx = np.meshgrid(grid, grid)"
   ]
  },
  {
   "cell_type": "code",
   "execution_count": 7,
   "metadata": {},
   "outputs": [
    {
     "data": {
      "text/plain": [
       "(-1.0, 1.0)"
      ]
     },
     "execution_count": 7,
     "metadata": {},
     "output_type": "execute_result"
    },
    {
     "data": {
      "image/png": "[encoded data removed]",
      "text/plain": [
       "<Figure size 432x288 with 1 Axes>"
      ]
     },
     "metadata": {
      "needs_background": "light"
     },
     "output_type": "display_data"
    }
   ],
   "source": [
    "for x in grid:\n",
    "    plt.axvline(x)\n",
    "    plt.axhline(x)\n",
    "\n",
    "plt.xlim(-1, 1)\n",
    "plt.ylim(-1, 1)"
   ]
  },
  {
   "cell_type": "code",
   "execution_count": 13,
   "metadata": {},
   "outputs": [],
   "source": [
    "I_ = np.zeros((N_coeff, N_coeff))\n",
    "\n",
    "for i in range(N_coeff):\n",
    "    cat = np.zeros(N_coeff)\n",
    "    cat[i] = 1\n",
    "    I_[:, i] = np.polynomial.chebyshev.chebval(grid, cat)"
   ]
  },
  {
   "cell_type": "code",
   "execution_count": 15,
   "metadata": {},
   "outputs": [],
   "source": [
    "D_ = np.zeros((N_coeff, N_coeff))\n",
    "\n",
    "for i in range(N_coeff):\n",
    "    cat = np.zeros(N_coeff)\n",
    "    cat[i] = 1\n",
    "\n",
    "    Cheb = np.polynomial.chebyshev.Chebyshev(cat)\n",
    "    D_[:, i] = Cheb.deriv(m = 1)(grid)\n",
    "\n",
    "\n",
    "D2_ = np.zeros((N_coeff, N_coeff))\n",
    "\n",
    "for i in range(N_coeff):\n",
    "    cat = np.zeros(N_coeff)\n",
    "    cat[i] = 1\n",
    "\n",
    "    Cheb = np.polynomial.chebyshev.Chebyshev(cat)\n",
    "    D2_[:, i] = Cheb.deriv(m = 2)(grid)"
   ]
  },
  {
   "cell_type": "markdown",
   "metadata": {},
   "source": [
    "## make 2D"
   ]
  },
  {
   "cell_type": "code",
   "execution_count": 16,
   "metadata": {},
   "outputs": [],
   "source": [
    "I = np.kron(I_, I_)"
   ]
  },
  {
   "cell_type": "code",
   "execution_count": 40,
   "metadata": {},
   "outputs": [],
   "source": [
    "Dx = np.kron(D_, I_)\n",
    "Dy = np.kron(I_, D_)"
   ]
  },
  {
   "cell_type": "code",
   "execution_count": 60,
   "metadata": {},
   "outputs": [],
   "source": [
    "D2x = np.kron(D2_, I_)\n",
    "D2y = np.kron(I_, D2_)\n",
    "\n",
    "DxDy = np.kron(D_, D_)"
   ]
  },
  {
   "cell_type": "code",
   "execution_count": 63,
   "metadata": {},
   "outputs": [],
   "source": [
    "coeff = np.zeros((N_coeff, N_coeff))\n",
    "coeff[1, 2] = 1\n",
    "im = (DxDy @ coeff.flatten()).reshape((N_coeff, N_coeff))"
   ]
  },
  {
   "cell_type": "code",
   "execution_count": 67,
   "metadata": {},
   "outputs": [
    {
     "data": {
      "text/plain": [
       "<matplotlib.colorbar.Colorbar at 0x18a7b5025e0>"
      ]
     },
     "execution_count": 67,
     "metadata": {},
     "output_type": "execute_result"
    },
    {
     "data": {
      "image/png": "[encoded data removed]",
      "text/plain": [
       "<Figure size 432x288 with 2 Axes>"
      ]
     },
     "metadata": {
      "needs_background": "light"
     },
     "output_type": "display_data"
    }
   ],
   "source": [
    "plt.imshow(im.T)\n",
    "plt.colorbar()"
   ]
  },
  {
   "cell_type": "code",
   "execution_count": 105,
   "metadata": {},
   "outputs": [],
   "source": [
    "def boundify(op):\n",
    "    for i in range(N_coeff*N_coeff):\n",
    "        cond = False\n",
    "\n",
    "        ## y boundaries\n",
    "        \n",
    "        if i % N_coeff == 0:\n",
    "            cond = True\n",
    "\n",
    "        if i % N_coeff == N_coeff - 1:\n",
    "            cond = True\n",
    "\n",
    "\n",
    "        ## x boundaries\n",
    "\n",
    "        if i < N_coeff:\n",
    "            cond = True\n",
    "\n",
    "        if i >= N_coeff*N_coeff - N_coeff:\n",
    "            cond = True\n",
    "\n",
    "        if cond:\n",
    "            op[i,:] = I[i, :]\n",
    "\n",
    "    return op"
   ]
  },
  {
   "cell_type": "code",
   "execution_count": 279,
   "metadata": {},
   "outputs": [
    {
     "data": {
      "image/png": "[encoded data removed]",
      "text/plain": [
       "<Figure size 432x288 with 2 Axes>"
      ]
     },
     "metadata": {
      "needs_background": "light"
     },
     "output_type": "display_data"
    }
   ],
   "source": [
    "k = -np.sin(yy*1.5*np.pi) + 1.1\n",
    "plt.imshow(k)\n",
    "plt.colorbar()\n",
    "k_cheby = np.linalg.inv(I) @ k.flatten()\n",
    "\n",
    "k = I @ k_cheby\n",
    "kx = Dx @ k_cheby\n",
    "ky = Dy @ k_cheby\n",
    "k_mat = np.diag(k)\n",
    "kx_mat = np.diag(kx)\n",
    "ky_mat = np.diag(ky)"
   ]
  },
  {
   "cell_type": "code",
   "execution_count": 289,
   "metadata": {},
   "outputs": [
    {
     "data": {
      "image/png": "[encoded data removed]",
      "text/plain": [
       "<Figure size 432x288 with 1 Axes>"
      ]
     },
     "metadata": {
      "needs_background": "light"
     },
     "output_type": "display_data"
    }
   ],
   "source": [
    "boundary = np.zeros((N_coeff,N_coeff))\n",
    "boundary[0,:] = k.reshape(dims)[0,:]\n",
    "boundary[-1, :] = k.reshape(dims)[-1,:]\n",
    "\n",
    "boundary[0,0:18] = 0\n",
    "boundary[-1,0:18] = 0\n",
    "# boundary[:, 0] = np.sin(grid/2 * np.pi)\n",
    "# boundary[:, -1] = np.sin(grid/2 * np.pi)\n",
    "boundary[:, 0] = k.reshape(dims)[:,0] * 0\n",
    "boundary[:, -1] = k.reshape(dims)[0,-1] * 0\n",
    "\n",
    "plt.imshow(boundary)\n",
    "boundary = boundary.flatten()"
   ]
  },
  {
   "cell_type": "code",
   "execution_count": 290,
   "metadata": {},
   "outputs": [],
   "source": [
    "L = boundify(kx_mat @ Dx + ky_mat @ Dy + k_mat @ (D2x + D2y))\n",
    "sol = np.linalg.inv(L) @ boundary "
   ]
  },
  {
   "cell_type": "code",
   "execution_count": 291,
   "metadata": {},
   "outputs": [
    {
     "data": {
      "text/plain": [
       "<matplotlib.colorbar.Colorbar at 0x18a1023bfa0>"
      ]
     },
     "execution_count": 291,
     "metadata": {},
     "output_type": "execute_result"
    },
    {
     "data": {
      "image/png": "[encoded data removed]",
      "text/plain": [
       "<Figure size 432x288 with 2 Axes>"
      ]
     },
     "metadata": {
      "needs_background": "light"
     },
     "output_type": "display_data"
    }
   ],
   "source": [
    "im = I @ sol\n",
    "plt.imshow(im.reshape(dims))\n",
    "\n",
    "plt.colorbar()"
   ]
  },
  {
   "cell_type": "code",
   "execution_count": null,
   "metadata": {},
   "outputs": [],
   "source": []
  },
  {
   "cell_type": "code",
   "execution_count": null,
   "metadata": {},
   "outputs": [],
   "source": []
  }
 ],
 "metadata": {
  "kernelspec": {
   "display_name": "base",
   "language": "python",
   "name": "python3"
  },
  "language_info": {
   "codemirror_mode": {
    "name": "ipython",
    "version": 3
   },
   "file_extension": ".py",
   "mimetype": "text/x-python",
   "name": "python",
   "nbconvert_exporter": "python",
   "pygments_lexer": "ipython3",
   "version": "3.9.7"
  }
 },
 "nbformat": 4,
 "nbformat_minor": 2
}
