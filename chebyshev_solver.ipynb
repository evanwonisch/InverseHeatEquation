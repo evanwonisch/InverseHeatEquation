{
 "cells": [
  {
   "cell_type": "code",
   "execution_count": 1,
   "metadata": {},
   "outputs": [],
   "source": [
    "import numpy as np\n",
    "from matplotlib import pyplot as plt"
   ]
  },
  {
   "cell_type": "code",
   "execution_count": 125,
   "metadata": {},
   "outputs": [],
   "source": [
    "np.set_printoptions(precision=3)"
   ]
  },
  {
   "cell_type": "code",
   "execution_count": 220,
   "metadata": {},
   "outputs": [],
   "source": [
    "N_coeff = 50"
   ]
  },
  {
   "cell_type": "code",
   "execution_count": 221,
   "metadata": {},
   "outputs": [],
   "source": [
    "grid = np.cos((2*np.arange(N_coeff) + 1)*np.pi/2/N_coeff)"
   ]
  },
  {
   "cell_type": "code",
   "execution_count": 222,
   "metadata": {},
   "outputs": [
    {
     "data": {
      "image/png": "[encoded data removed]",
      "text/plain": [
       "<Figure size 432x288 with 1 Axes>"
      ]
     },
     "metadata": {
      "needs_background": "light"
     },
     "output_type": "display_data"
    }
   ],
   "source": [
    "for x in grid:\n",
    "    plt.axvline(x)"
   ]
  },
  {
   "cell_type": "code",
   "execution_count": 223,
   "metadata": {},
   "outputs": [],
   "source": [
    "I = np.zeros((N_coeff, N_coeff))\n",
    "\n",
    "for i in range(N_coeff):\n",
    "    cat = np.zeros(N_coeff)\n",
    "    cat[i] = 1\n",
    "    I[:, i] = np.polynomial.chebyshev.chebval(grid, cat)"
   ]
  },
  {
   "cell_type": "code",
   "execution_count": 251,
   "metadata": {},
   "outputs": [],
   "source": [
    "D = np.zeros((N_coeff, N_coeff))\n",
    "\n",
    "for i in range(N_coeff):\n",
    "    cat = np.zeros(N_coeff)\n",
    "    cat[i] = 1\n",
    "\n",
    "    Cheb = np.polynomial.chebyshev.Chebyshev(cat)\n",
    "    D[:, i] = Cheb.deriv(m = 1)(grid)\n",
    "\n",
    "\n",
    "D2 = np.zeros((N_coeff, N_coeff))\n",
    "\n",
    "for i in range(N_coeff):\n",
    "    cat = np.zeros(N_coeff)\n",
    "    cat[i] = 1\n",
    "\n",
    "    Cheb = np.polynomial.chebyshev.Chebyshev(cat)\n",
    "    D2[:, i] = Cheb.deriv(m = 2)(grid)"
   ]
  },
  {
   "cell_type": "code",
   "execution_count": 252,
   "metadata": {},
   "outputs": [],
   "source": [
    "def boundify(A):\n",
    "    for i in range(N_coeff):\n",
    "\n",
    "        cat = np.zeros(N_coeff)\n",
    "        cat[i] = 1\n",
    "\n",
    "        A[0, i] = np.polynomial.chebyshev.chebval(grid[-1], cat)\n",
    "        A[-1, i] = np.polynomial.chebyshev.chebval(grid[0], cat)\n",
    "\n",
    "\n",
    "    return A"
   ]
  },
  {
   "cell_type": "code",
   "execution_count": 369,
   "metadata": {},
   "outputs": [
    {
     "data": {
      "text/plain": [
       "[<matplotlib.lines.Line2D at 0x2ab1440c760>]"
      ]
     },
     "execution_count": 369,
     "metadata": {},
     "output_type": "execute_result"
    },
    {
     "data": {
      "image/png": "[encoded data removed]",
      "text/plain": [
       "<Figure size 432x288 with 1 Axes>"
      ]
     },
     "metadata": {
      "needs_background": "light"
     },
     "output_type": "display_data"
    }
   ],
   "source": [
    "k_cheb = np.random.randn(N_coeff)\n",
    "k_cheb *= np.exp(-np.arange(N_coeff)/5)\n",
    "k = np.polynomial.chebyshev.chebval(grid, k_cheb)\n",
    "\n",
    "if np.min(k) <= 0:\n",
    "    k_cheb[0] -= np.min(k)\n",
    "    k_cheb[0] += 0.1\n",
    "\n",
    "k = np.polynomial.chebyshev.chebval(grid, k_cheb)\n",
    "k_diff = D @ k_cheb\n",
    "\n",
    "plt.plot(grid, k)"
   ]
  },
  {
   "cell_type": "code",
   "execution_count": 354,
   "metadata": {},
   "outputs": [],
   "source": [
    "L = np.diag(k) @ D2 + np.diag(k_diff) @ D\n",
    "\n",
    "L = boundify(L)\n",
    "\n",
    "bound = np.zeros(N_coeff)\n",
    "bound[0] = 1\n",
    "bound[-1] = 0\n",
    "\n",
    "\n",
    "cheby_sol = np.linalg.inv(L) @ bound"
   ]
  },
  {
   "cell_type": "code",
   "execution_count": 355,
   "metadata": {},
   "outputs": [],
   "source": [
    "solution = np.polynomial.chebyshev.chebval(grid, cheby_sol)"
   ]
  },
  {
   "cell_type": "code",
   "execution_count": 356,
   "metadata": {},
   "outputs": [
    {
     "data": {
      "text/plain": [
       "[<matplotlib.lines.Line2D at 0x2ab12e95730>]"
      ]
     },
     "execution_count": 356,
     "metadata": {},
     "output_type": "execute_result"
    },
    {
     "data": {
      "image/png": "[encoded data removed]",
      "text/plain": [
       "<Figure size 432x288 with 1 Axes>"
      ]
     },
     "metadata": {
      "needs_background": "light"
     },
     "output_type": "display_data"
    }
   ],
   "source": [
    "plt.plot(grid, solution, marker = \"+\")"
   ]
  },
  {
   "cell_type": "code",
   "execution_count": null,
   "metadata": {},
   "outputs": [],
   "source": []
  },
  {
   "cell_type": "code",
   "execution_count": null,
   "metadata": {},
   "outputs": [],
   "source": []
  },
  {
   "cell_type": "code",
   "execution_count": null,
   "metadata": {},
   "outputs": [],
   "source": []
  }
 ],
 "metadata": {
  "kernelspec": {
   "display_name": "base",
   "language": "python",
   "name": "python3"
  },
  "language_info": {
   "codemirror_mode": {
    "name": "ipython",
    "version": 3
   },
   "file_extension": ".py",
   "mimetype": "text/x-python",
   "name": "python",
   "nbconvert_exporter": "python",
   "pygments_lexer": "ipython3",
   "version": "3.9.7"
  }
 },
 "nbformat": 4,
 "nbformat_minor": 2
}
