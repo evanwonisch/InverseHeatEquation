{
 "cells": [
  {
   "cell_type": "code",
   "execution_count": 1,
   "metadata": {},
   "outputs": [],
   "source": [
    "import numpy as np\n",
    "from matplotlib import pyplot as plt"
   ]
  },
  {
   "cell_type": "code",
   "execution_count": 125,
   "metadata": {},
   "outputs": [],
   "source": [
    "np.set_printoptions(precision=3)"
   ]
  },
  {
   "cell_type": "code",
   "execution_count": 220,
   "metadata": {},
   "outputs": [],
   "source": [
    "N_coeff = 50"
   ]
  },
  {
   "cell_type": "code",
   "execution_count": 221,
   "metadata": {},
   "outputs": [],
   "source": [
    "grid = np.cos((2*np.arange(N_coeff) + 1)*np.pi/2/N_coeff)"
   ]
  },
  {
   "cell_type": "code",
   "execution_count": 222,
   "metadata": {},
   "outputs": [
    {
     "data": {
      "image/png": "[encoded data removed]",
      "text/plain": [
       "<Figure size 432x288 with 1 Axes>"
      ]
     },
     "metadata": {
      "needs_background": "light"
     },
     "output_type": "display_data"
    }
   ],
   "source": [
    "for x in grid:\n",
    "    plt.axvline(x)"
   ]
  },
  {
   "cell_type": "code",
   "execution_count": 223,
   "metadata": {},
   "outputs": [],
   "source": [
    "I = np.zeros((N_coeff, N_coeff))\n",
    "\n",
    "for i in range(N_coeff):\n",
    "    cat = np.zeros(N_coeff)\n",
    "    cat[i] = 1\n",
    "    I[:, i] = np.polynomial.chebyshev.chebval(grid, cat)"
   ]
  },
  {
   "cell_type": "code",
   "execution_count": 224,
   "metadata": {},
   "outputs": [],
   "source": [
    "D = np.zeros((N_coeff, N_coeff))\n",
    "\n",
    "for i in range(N_coeff):\n",
    "    cat = np.zeros(N_coeff)\n",
    "    cat[i] = 1\n",
    "\n",
    "    Cheb = np.polynomial.chebyshev.Chebyshev(cat)\n",
    "    D[:, i] = Cheb.deriv(m = 1)(grid)\n",
    "\n",
    "\n",
    "D2 = np.zeros((N_coeff, N_coeff))\n",
    "\n",
    "for i in range(N_coeff):\n",
    "    cat = np.zeros(N_coeff)\n",
    "    cat[i] = 1\n",
    "\n",
    "    Cheb = np.polynomial.chebyshev.Chebyshev(cat)\n",
    "    D2[:, i] = Cheb.deriv(m = 2)(grid)"
   ]
  },
  {
   "cell_type": "code",
   "execution_count": 225,
   "metadata": {},
   "outputs": [],
   "source": [
    "def boundify(A):\n",
    "    for i in range(N_coeff):\n",
    "\n",
    "        cat = np.zeros(N_coeff)\n",
    "        cat[i] = 1\n",
    "\n",
    "        A[0, i] = np.polynomial.chebyshev.chebval(grid[-1], cat)\n",
    "        A[-1, i] = np.polynomial.chebyshev.chebval(grid[0], cat)\n",
    "\n",
    "\n",
    "    return A"
   ]
  },
  {
   "cell_type": "code",
   "execution_count": 243,
   "metadata": {},
   "outputs": [],
   "source": [
    "L = boundify(D2 + I)\n",
    "\n",
    "bound = np.zeros(N_coeff)\n",
    "bound[0] = np.cos(-1)\n",
    "bound[-1] = np.cos(1)\n",
    "\n",
    "\n",
    "cheby_sol = np.linalg.inv(L) @ bound"
   ]
  },
  {
   "cell_type": "code",
   "execution_count": 244,
   "metadata": {},
   "outputs": [],
   "source": [
    "solution = np.polynomial.chebyshev.chebval(grid, cheby_sol)"
   ]
  },
  {
   "cell_type": "code",
   "execution_count": 245,
   "metadata": {},
   "outputs": [
    {
     "data": {
      "text/plain": [
       "[<matplotlib.lines.Line2D at 0x2ab0e63abe0>]"
      ]
     },
     "execution_count": 245,
     "metadata": {},
     "output_type": "execute_result"
    },
    {
     "data": {
      "image/png": "[encoded data removed]",
      "text/plain": [
       "<Figure size 432x288 with 1 Axes>"
      ]
     },
     "metadata": {
      "needs_background": "light"
     },
     "output_type": "display_data"
    }
   ],
   "source": [
    "plt.plot(grid, solution, marker = \"+\")\n",
    "plt.plot(np.linspace(-5, 5), np.cos(np.linspace(-5, 5)))"
   ]
  },
  {
   "cell_type": "code",
   "execution_count": null,
   "metadata": {},
   "outputs": [],
   "source": []
  },
  {
   "cell_type": "code",
   "execution_count": null,
   "metadata": {},
   "outputs": [],
   "source": []
  },
  {
   "cell_type": "code",
   "execution_count": null,
   "metadata": {},
   "outputs": [],
   "source": []
  }
 ],
 "metadata": {
  "kernelspec": {
   "display_name": "base",
   "language": "python",
   "name": "python3"
  },
  "language_info": {
   "codemirror_mode": {
    "name": "ipython",
    "version": 3
   },
   "file_extension": ".py",
   "mimetype": "text/x-python",
   "name": "python",
   "nbconvert_exporter": "python",
   "pygments_lexer": "ipython3",
   "version": "3.9.7"
  }
 },
 "nbformat": 4,
 "nbformat_minor": 2
}
